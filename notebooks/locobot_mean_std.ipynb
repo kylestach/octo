{
 "cells": [
  {
   "cell_type": "code",
   "execution_count": null,
   "metadata": {},
   "outputs": [
    {
     "name": "stderr",
     "output_type": "stream",
     "text": [
      "2024-04-13 03:32:42.202307: I external/local_tsl/tsl/cuda/cudart_stub.cc:31] Could not find cuda drivers on your machine, GPU will not be used.\n",
      "2024-04-13 03:32:42.250745: E external/local_xla/xla/stream_executor/cuda/cuda_dnn.cc:9261] Unable to register cuDNN factory: Attempting to register factory for plugin cuDNN when one has already been registered\n",
      "2024-04-13 03:32:42.250781: E external/local_xla/xla/stream_executor/cuda/cuda_fft.cc:607] Unable to register cuFFT factory: Attempting to register factory for plugin cuFFT when one has already been registered\n",
      "2024-04-13 03:32:42.252447: E external/local_xla/xla/stream_executor/cuda/cuda_blas.cc:1515] Unable to register cuBLAS factory: Attempting to register factory for plugin cuBLAS when one has already been registered\n",
      "2024-04-13 03:32:42.260929: I external/local_tsl/tsl/cuda/cudart_stub.cc:31] Could not find cuda drivers on your machine, GPU will not be used.\n",
      "2024-04-13 03:32:42.261723: I tensorflow/core/platform/cpu_feature_guard.cc:182] This TensorFlow binary is optimized to use available CPU instructions in performance-critical operations.\n",
      "To enable the following instructions: AVX2 AVX512F FMA, in other operations, rebuild TensorFlow with the appropriate compiler flags.\n",
      "2024-04-13 03:32:46.100138: W tensorflow/compiler/tf2tensorrt/utils/py_utils.cc:38] TF-TRT Warning: Could not find TensorRT\n"
     ]
    }
   ],
   "source": [
    "import numpy as np\n",
    "import pickle as pkl\n",
    "import tensorflow as tf"
   ]
  },
  {
   "cell_type": "code",
   "execution_count": null,
   "metadata": {},
   "outputs": [],
   "source": [
    "# convert to prechunked format\n",
    "MAX_SPEED=0.2\n",
    "FRAME_RATE=4\n",
    "\n",
    "def transform(traj):\n",
    "    traj_len = len(traj['position'])\n",
    "\n",
    "    # convert to GNM format -- divide by max_speed/frame_rate to get relative positions from true positions\n",
    "    poses = []\n",
    "    for (x,y) in traj['position']:\n",
    "        new_pos = [x / (MAX_SPEED/FRAME_RATE), y / (MAX_SPEED/FRAME_RATE)] # standar\n",
    "        poses.append(new_pos)\n",
    "    \n",
    "    traj['position'] = np.array(poses)\n",
    "    \n",
    "    action_horizon = 4\n",
    "\n",
    "    # compute rot matrix\n",
    "    yaw = traj[\"yaw\"] \n",
    "    # insert empty axis to front of yaw\n",
    "    yaw = [yaw for _ in range(traj_len)]\n",
    "    # Create the rotation matrix using numpy functions for cosine and sine\n",
    "    rot_mat = tf.convert_to_tensor(\n",
    "        [\n",
    "            [tf.cos(yaw), -tf.sin(yaw)],\n",
    "            [tf.sin(yaw), tf.cos(yaw)],\n",
    "        ]\n",
    "    )\n",
    "    rot_mat = tf.transpose(rot_mat, [3, 2, 0, 1])[0]\n",
    "\n",
    "    # chunk actions and recompute as relative to the start of the chunk\n",
    "    pos = traj[\"position\"]\n",
    "    start = tf.broadcast_to(pos[:, None], [traj_len, action_horizon, 2])\n",
    "    end_indices = tf.range(traj_len)[:, None] + tf.range(1, action_horizon + 1)\n",
    "    end_indices = tf.minimum(end_indices, traj_len - 1)\n",
    "    end = tf.gather(pos, end_indices)\n",
    "    delta = end - start\n",
    "    actions = tf.matmul(delta[:, :, None], rot_mat[:, None])[:, :, 0] #* scaling_factor\n",
    "\n",
    "    return actions\n"
   ]
  },
  {
   "cell_type": "code",
   "execution_count": null,
   "metadata": {},
   "outputs": [
    {
     "name": "stdout",
     "output_type": "stream",
     "text": [
      "(1892, 4, 2)\n",
      "(177, 4, 2)\n",
      "(171, 4, 2)\n",
      "(154, 4, 2)\n",
      "(184, 4, 2)\n",
      "(763, 4, 2)\n",
      "(6, 4, 2)\n"
     ]
    }
   ],
   "source": [
    "folders = ['locobot_bww_large_loop_0', 'locobot_crash_test_0', 'locobot_crash_test_1', 'locobot_crash_test_2', 'locobot_crash_test_3', 'locobot_svl_loop_0', 'locobot_svl_loop_1']\n",
    "\n",
    "pos_data = []\n",
    "pth = '/nfs/nfs1/users/riadoshi/orca/notebooks/files/locobot_loop/'\n",
    "for folder in folders:\n",
    "    with open(pth + folder + '/traj_data.pkl', 'rb') as f:\n",
    "        data = pkl.load(f)\n",
    "        data = transform(data)\n",
    "        print(data.shape)\n",
    "        pos_data.extend(data)\n",
    "pos_data = np.array(pos_data)"
   ]
  },
  {
   "cell_type": "code",
   "execution_count": null,
   "metadata": {},
   "outputs": [
    {
     "data": {
      "text/plain": [
       "(3347, 4, 2)"
      ]
     },
     "execution_count": null,
     "metadata": {},
     "output_type": "execute_result"
    }
   ],
   "source": [
    "pos_data.shape\n",
    "# actually now that i think about it, gnm data is already relative. and we're applying this transform on top of that. so we want to divide by max_speed/frame_rate\n",
    "# so divide by 0.2/4"
   ]
  },
  {
   "cell_type": "code",
   "execution_count": null,
   "metadata": {},
   "outputs": [],
   "source": [
    "xs, ys = [], []\n",
    "for chunk in pos_data:\n",
    "    # we apply the transform assuming that the data is \n",
    "    x,y = chunk[0][0], chunk[0][1]\n",
    "    xs.append(x)\n",
    "    ys.append(y)\n",
    "\n",
    "xs, ys = np.array(xs), np.array(ys)\n"
   ]
  },
  {
   "cell_type": "code",
   "execution_count": null,
   "metadata": {},
   "outputs": [
    {
     "data": {
      "text/plain": [
       "(0.26631192613091664, 0.22549576019925752)"
      ]
     },
     "execution_count": null,
     "metadata": {},
     "output_type": "execute_result"
    }
   ],
   "source": [
    "xs.mean(), ys.mean()"
   ]
  },
  {
   "cell_type": "code",
   "execution_count": null,
   "metadata": {},
   "outputs": [
    {
     "data": {
      "text/plain": [
       "(1.309577033271587, 1.3695118288543364)"
      ]
     },
     "execution_count": null,
     "metadata": {},
     "output_type": "execute_result"
    }
   ],
   "source": [
    "xs.std(), ys.std()"
   ]
  }
 ],
 "metadata": {
  "kernelspec": {
   "display_name": "octo",
   "language": "python",
   "name": "python3"
  },
  "language_info": {
   "codemirror_mode": {
    "name": "ipython",
    "version": 3
   },
   "file_extension": ".py",
   "mimetype": "text/x-python",
   "name": "python",
   "nbconvert_exporter": "python",
   "pygments_lexer": "ipython3"
  }
 },
 "nbformat": 4,
 "nbformat_minor": 2
}
